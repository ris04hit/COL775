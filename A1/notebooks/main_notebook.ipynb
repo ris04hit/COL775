{
 "cells": [
  {
   "cell_type": "code",
   "execution_count": null,
   "metadata": {},
   "outputs": [],
   "source": [
    "# imports\n",
    "import sys\n",
    "import os\n",
    "\n",
    "sys.path.append(os.path.abspath('../'))\n",
    "\n",
    "import src.init_structure\n",
    "import src.utils as utils\n",
    "import src.resnet_model as model"
   ]
  },
  {
   "cell_type": "code",
   "execution_count": null,
   "metadata": {},
   "outputs": [],
   "source": [
    "# Constants\n",
    "random_seed = 68\n",
    "n = 2\n",
    "r = 25\n",
    "batch_size = 32"
   ]
  },
  {
   "cell_type": "code",
   "execution_count": null,
   "metadata": {},
   "outputs": [],
   "source": [
    "# Addresses\n",
    "\n",
    "# Raw data\n",
    "raw_train = \"../data/raw/train\"\n",
    "raw_test = \"../data/raw/test\"\n",
    "raw_val = \"../data/raw/val\"\n",
    "\n",
    "# Processed data\n",
    "cat_address = \"../data/processed/cat.pkl\"\n",
    "stat_address = \"../data/processed/stats.npz\"\n",
    "processed_train_x_address = \"../data/processed/train/x\"\n",
    "processed_train_y_address = \"../data/processed/train/y\"\n",
    "processed_test_x_address = \"../data/processed/test/x\"\n",
    "processed_test_y_address = \"../data/processed/test/y\"\n",
    "processed_val_x_address = \"../data/processed/val/x\"\n",
    "processed_val_y_address = \"../data/processed/val/y\"\n",
    "\n",
    "# Temp Address\n",
    "temp_address = \"../temp\"\n",
    "\n",
    "# Results\n",
    "base_model_result = \"../results/base_model\""
   ]
  },
  {
   "cell_type": "code",
   "execution_count": null,
   "metadata": {},
   "outputs": [],
   "source": [
    "# Preprocessing\n",
    "utils.preprocess(address=raw_train,\n",
    "                 mode=0,\n",
    "                 overwrite=False,\n",
    "                 cat_addr=cat_address,\n",
    "                 stat_addr=stat_address,\n",
    "                 processed_x_addr=processed_train_x_address,\n",
    "                 processed_y_addr=processed_train_y_address)\n",
    "\n",
    "utils.preprocess(address=raw_test,\n",
    "                 mode=1,\n",
    "                 overwrite=False,\n",
    "                 cat_addr=cat_address,\n",
    "                 stat_addr=stat_address,\n",
    "                 processed_x_addr=processed_test_x_address,\n",
    "                 processed_y_addr=processed_test_y_address)\n",
    "\n",
    "utils.preprocess(address=raw_val,\n",
    "                 mode=1,\n",
    "                 overwrite=False,\n",
    "                 cat_addr=cat_address,\n",
    "                 stat_addr=stat_address,\n",
    "                 processed_x_addr=processed_val_x_address,\n",
    "                 processed_y_addr=processed_val_y_address)"
   ]
  },
  {
   "cell_type": "code",
   "execution_count": null,
   "metadata": {},
   "outputs": [],
   "source": [
    "# Creating Data Loader\n",
    "data_loader_train = model.DataLoader(x_addr=processed_train_x_address,\n",
    "                                     y_addr=processed_train_y_address,\n",
    "                                     batch_size=batch_size,\n",
    "                                     rand_seed=random_seed)\n",
    "\n",
    "data_loader_test = model.DataLoader(x_addr=processed_test_x_address,\n",
    "                                     y_addr=processed_test_y_address,\n",
    "                                     batch_size=batch_size,\n",
    "                                     rand_seed=random_seed)\n",
    "\n",
    "data_loader_val = model.DataLoader(x_addr=processed_val_x_address,\n",
    "                                     y_addr=processed_val_y_address,\n",
    "                                     batch_size=batch_size,\n",
    "                                     rand_seed=random_seed)\n"
   ]
  },
  {
   "cell_type": "code",
   "execution_count": null,
   "metadata": {},
   "outputs": [],
   "source": [
    "# Creating model\n",
    "model.set_seed(random_seed)\n",
    "resnet_base_model = model.Resnet(n, r).to(model.device)\n"
   ]
  },
  {
   "cell_type": "code",
   "execution_count": null,
   "metadata": {},
   "outputs": [],
   "source": [
    "# Training Model\n",
    "model.train(resnet_base_model, data_loader_train, base_model_result)"
   ]
  }
 ],
 "metadata": {
  "kernelspec": {
   "display_name": "Python 3",
   "language": "python",
   "name": "python3"
  },
  "language_info": {
   "codemirror_mode": {
    "name": "ipython",
    "version": 3
   },
   "file_extension": ".py",
   "mimetype": "text/x-python",
   "name": "python",
   "nbconvert_exporter": "python",
   "pygments_lexer": "ipython3",
   "version": "3.8.6"
  }
 },
 "nbformat": 4,
 "nbformat_minor": 2
}
